{
  "nbformat": 4,
  "nbformat_minor": 0,
  "metadata": {
    "colab": {
      "provenance": [],
      "authorship_tag": "ABX9TyN/Dr/ZN+C91qCDNfSM+pZb",
      "include_colab_link": true
    },
    "kernelspec": {
      "name": "python3",
      "display_name": "Python 3"
    },
    "language_info": {
      "name": "python"
    }
  },
  "cells": [
    {
      "cell_type": "markdown",
      "metadata": {
        "id": "view-in-github",
        "colab_type": "text"
      },
      "source": [
        "<a href=\"https://colab.research.google.com/github/rafly2408/operator/blob/main/operator.ipynb\" target=\"_parent\"><img src=\"https://colab.research.google.com/assets/colab-badge.svg\" alt=\"Open In Colab\"/></a>"
      ]
    },
    {
      "cell_type": "code",
      "execution_count": 4,
      "metadata": {
        "colab": {
          "base_uri": "https://localhost:8080/"
        },
        "id": "H5-qCLpKBOne",
        "outputId": "c37f7b74-08a7-45f1-c101-c67bcdaaa5c2"
      },
      "outputs": [
        {
          "output_type": "stream",
          "name": "stdout",
          "text": [
            "13\n",
            "7\n",
            "42\n",
            "0.6666666666666666\n",
            "5\n",
            "7776\n",
            "0\n",
            "10\n",
            "11\n",
            "10\n",
            "12\n",
            "5\n",
            "True\n",
            "True\n",
            "False\n",
            "False\n",
            "False\n",
            "False\n",
            "True\n",
            "False\n"
          ]
        },
        {
          "output_type": "execute_result",
          "data": {
            "text/plain": [
              "True"
            ]
          },
          "metadata": {},
          "execution_count": 4
        }
      ],
      "source": [
        "# operator aritmatika\n",
        "\n",
        "\n",
        "# pertambahan\n",
        "a = 5\n",
        "b = 8\n",
        "c = a+b\n",
        "print(c)\n",
        "\n",
        "# pengurangan\n",
        "a = 10\n",
        "b = 3\n",
        "c = a-b\n",
        "print(c)\n",
        "\n",
        "# perkalian\n",
        "a = 7\n",
        "b = 6\n",
        "c = a*b\n",
        "print(c)\n",
        "\n",
        "# pembagian\n",
        "a = 4\n",
        "b = 6\n",
        "c = a/b\n",
        "print(c)\n",
        "\n",
        "# persen\n",
        "a = 5\n",
        "b = 6\n",
        "c = a%b\n",
        "print(c)\n",
        "\n",
        "# exponentiation\n",
        "a = 6\n",
        "b = 5\n",
        "c = a**b\n",
        "print(c)\n",
        "\n",
        "# floor division\n",
        "a = 4\n",
        "b = 5\n",
        "c = a//b\n",
        "print(c)\n",
        "\n",
        "# assignment\n",
        "a = 5\n",
        "b = 5\n",
        "c = a=10\n",
        "print(c)\n",
        "\n",
        "# addition shorthand\n",
        "a = 10\n",
        "a = 11\n",
        "print(a)\n",
        "\n",
        "# subtraction shorthand\n",
        "b = 20\n",
        "b = 10\n",
        "print(b)\n",
        "\n",
        "# multiplication shorthand\n",
        "c = 10\n",
        "c = 12\n",
        "print(c)\n",
        "\n",
        "# division shorthand\n",
        "j = 5\n",
        "j = 5\n",
        "print(j)\n",
        "\n",
        "# equal\n",
        "l = 2\n",
        "l = 2\n",
        "print(l==l)\n",
        "\n",
        "# not equal\n",
        "j = 5\n",
        "k = 6\n",
        "print(j!=k)\n",
        "\n",
        "# greater than\n",
        "k = 5\n",
        "l = 5\n",
        "print(k>l)\n",
        "\n",
        "# less than\n",
        "m = 6\n",
        "n = 6\n",
        "print(m<n)\n",
        "\n",
        "# greater than or equal to\n",
        "a = 5\n",
        "b = 6\n",
        "print(a>=b)\n",
        "\n",
        "# operator\n",
        "a = 10\n",
        "b = 5\n",
        "print(a<=b)\n",
        "\n",
        "# operator\n",
        "a = 5\n",
        "b = 10\n",
        "print(a<b and b>a)\n",
        "\n",
        "# operator\n",
        "a = 7\n",
        "b = 6\n",
        "print(a<b and b>a)\n",
        "\n",
        "# operator\n",
        "not(a<5)\n",
        "\n",
        "\n",
        "\n",
        "\n"
      ]
    }
  ]
}